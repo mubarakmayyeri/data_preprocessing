{
 "cells": [
  {
   "cell_type": "markdown",
   "id": "e6366c02",
   "metadata": {},
   "source": [
    "# Data preprocessing"
   ]
  },
  {
   "cell_type": "code",
   "execution_count": 1,
   "id": "e0eeecf6",
   "metadata": {},
   "outputs": [],
   "source": [
    "# importing necessary libraries\n",
    "import numpy as np\n",
    "import pandas as pd\n"
   ]
  },
  {
   "cell_type": "code",
   "execution_count": 2,
   "id": "47884691",
   "metadata": {},
   "outputs": [
    {
     "data": {
      "text/html": [
       "<div>\n",
       "<style scoped>\n",
       "    .dataframe tbody tr th:only-of-type {\n",
       "        vertical-align: middle;\n",
       "    }\n",
       "\n",
       "    .dataframe tbody tr th {\n",
       "        vertical-align: top;\n",
       "    }\n",
       "\n",
       "    .dataframe thead th {\n",
       "        text-align: right;\n",
       "    }\n",
       "</style>\n",
       "<table border=\"1\" class=\"dataframe\">\n",
       "  <thead>\n",
       "    <tr style=\"text-align: right;\">\n",
       "      <th></th>\n",
       "      <th>City</th>\n",
       "      <th>Age</th>\n",
       "      <th>Salary</th>\n",
       "      <th>Eligible for bonus</th>\n",
       "    </tr>\n",
       "  </thead>\n",
       "  <tbody>\n",
       "    <tr>\n",
       "      <th>0</th>\n",
       "      <td>Mumbai</td>\n",
       "      <td>27.0</td>\n",
       "      <td>51000.0</td>\n",
       "      <td>Yes</td>\n",
       "    </tr>\n",
       "    <tr>\n",
       "      <th>1</th>\n",
       "      <td>NewYork</td>\n",
       "      <td>27.0</td>\n",
       "      <td>48000.0</td>\n",
       "      <td>Yes</td>\n",
       "    </tr>\n",
       "    <tr>\n",
       "      <th>2</th>\n",
       "      <td>Mumbai</td>\n",
       "      <td>30.0</td>\n",
       "      <td>52000.0</td>\n",
       "      <td>No</td>\n",
       "    </tr>\n",
       "    <tr>\n",
       "      <th>3</th>\n",
       "      <td>NewYork</td>\n",
       "      <td>NaN</td>\n",
       "      <td>66000.0</td>\n",
       "      <td>No</td>\n",
       "    </tr>\n",
       "    <tr>\n",
       "      <th>4</th>\n",
       "      <td>Tokyo</td>\n",
       "      <td>48.0</td>\n",
       "      <td>NaN</td>\n",
       "      <td>Yes</td>\n",
       "    </tr>\n",
       "  </tbody>\n",
       "</table>\n",
       "</div>"
      ],
      "text/plain": [
       "      City   Age   Salary Eligible for bonus\n",
       "0   Mumbai  27.0  51000.0                Yes\n",
       "1  NewYork  27.0  48000.0                Yes\n",
       "2   Mumbai  30.0  52000.0                 No\n",
       "3  NewYork   NaN  66000.0                 No\n",
       "4    Tokyo  48.0      NaN                Yes"
      ]
     },
     "execution_count": 2,
     "metadata": {},
     "output_type": "execute_result"
    }
   ],
   "source": [
    "#importing dataset\n",
    "df = pd.read_csv('employee_data.csv')\n",
    "\n",
    "df.head()"
   ]
  },
  {
   "cell_type": "code",
   "execution_count": 3,
   "id": "67bc29f7",
   "metadata": {},
   "outputs": [
    {
     "name": "stdout",
     "output_type": "stream",
     "text": [
      "<class 'pandas.core.frame.DataFrame'>\n",
      "RangeIndex: 17 entries, 0 to 16\n",
      "Data columns (total 4 columns):\n",
      " #   Column              Non-Null Count  Dtype  \n",
      "---  ------              --------------  -----  \n",
      " 0   City                17 non-null     object \n",
      " 1   Age                 14 non-null     float64\n",
      " 2   Salary              15 non-null     float64\n",
      " 3   Eligible for bonus  17 non-null     object \n",
      "dtypes: float64(2), object(2)\n",
      "memory usage: 672.0+ bytes\n"
     ]
    }
   ],
   "source": [
    "df.info()"
   ]
  },
  {
   "cell_type": "markdown",
   "id": "e01c3a69",
   "metadata": {},
   "source": [
    "# Creating dependent and independent variables"
   ]
  },
  {
   "cell_type": "code",
   "execution_count": 4,
   "id": "bb81e169",
   "metadata": {},
   "outputs": [],
   "source": [
    "# create numpy representaion of the data\n",
    "\n",
    "X = df.iloc[:,:-1].values\n",
    "y = df.iloc[:,-1].values"
   ]
  },
  {
   "cell_type": "code",
   "execution_count": 5,
   "id": "e2cc7e70",
   "metadata": {},
   "outputs": [
    {
     "data": {
      "text/plain": [
       "array([['Mumbai', 27.0, 51000.0],\n",
       "       ['NewYork', 27.0, 48000.0],\n",
       "       ['Mumbai', 30.0, 52000.0],\n",
       "       ['NewYork', nan, 66000.0],\n",
       "       ['Tokyo', 48.0, nan],\n",
       "       ['Tokyo', nan, 51000.0],\n",
       "       ['Singapore', 33.0, 69000.0],\n",
       "       ['NewYork', 40.0, 79000.0],\n",
       "       ['Mumbai', 38.0, nan],\n",
       "       ['Singapore', 35.0, 38000.0],\n",
       "       ['Tokyo', nan, 56000.0],\n",
       "       ['Singapore', 35.0, 72000.0],\n",
       "       ['NewYork', 45.0, 79000.0],\n",
       "       ['Mumbai', 31.0, 85000.0],\n",
       "       ['Singapore', 37.0, 49000.0],\n",
       "       ['Mumbai', 69.0, 110000.0],\n",
       "       ['Tokyo', 16.0, 40000.0]], dtype=object)"
      ]
     },
     "execution_count": 5,
     "metadata": {},
     "output_type": "execute_result"
    }
   ],
   "source": [
    "X"
   ]
  },
  {
   "cell_type": "code",
   "execution_count": 6,
   "id": "539f828d",
   "metadata": {
    "scrolled": true
   },
   "outputs": [
    {
     "data": {
      "text/plain": [
       "array(['Yes', 'Yes', 'No', 'No', 'Yes', 'No', 'No', 'Yes', 'Yes', 'No',\n",
       "       'No', 'No', 'Yes', 'Yes', 'No', 'No', 'Yes'], dtype=object)"
      ]
     },
     "execution_count": 6,
     "metadata": {},
     "output_type": "execute_result"
    }
   ],
   "source": [
    "y"
   ]
  },
  {
   "cell_type": "markdown",
   "id": "c84b95bb",
   "metadata": {},
   "source": [
    "### Handling Missing Values"
   ]
  },
  {
   "cell_type": "code",
   "execution_count": 7,
   "id": "204649e0",
   "metadata": {
    "scrolled": true
   },
   "outputs": [
    {
     "data": {
      "text/plain": [
       "City                  0\n",
       "Age                   3\n",
       "Salary                2\n",
       "Eligible for bonus    0\n",
       "dtype: int64"
      ]
     },
     "execution_count": 7,
     "metadata": {},
     "output_type": "execute_result"
    }
   ],
   "source": [
    "# counting the number of missing values\n",
    "df.isnull().sum()"
   ]
  },
  {
   "cell_type": "code",
   "execution_count": 9,
   "id": "51bbe09c",
   "metadata": {},
   "outputs": [
    {
     "data": {
      "text/plain": [
       "City                  0\n",
       "Age                   0\n",
       "Salary                0\n",
       "Eligible for bonus    0\n",
       "dtype: int64"
      ]
     },
     "execution_count": 9,
     "metadata": {},
     "output_type": "execute_result"
    }
   ],
   "source": [
    "# dropping missing value records\n",
    "df1 = df.dropna()\n",
    "df1.isnull().sum()"
   ]
  },
  {
   "cell_type": "code",
   "execution_count": 11,
   "id": "57df99f8",
   "metadata": {},
   "outputs": [],
   "source": [
    "# replacing missing values\n",
    "from sklearn.impute import SimpleImputer\n",
    "\n",
    "imputer = SimpleImputer(missing_values = np.nan, strategy = 'mean')\n",
    "imputer.fit(X[:, 1:3])\n",
    "X[:, 1:3] = imputer.transform(X[:, 1:3])"
   ]
  },
  {
   "cell_type": "code",
   "execution_count": 12,
   "id": "06281c87",
   "metadata": {
    "scrolled": true
   },
   "outputs": [
    {
     "data": {
      "text/plain": [
       "array([['Mumbai', 27.0, 51000.0],\n",
       "       ['NewYork', 27.0, 48000.0],\n",
       "       ['Mumbai', 30.0, 52000.0],\n",
       "       ['NewYork', 36.5, 66000.0],\n",
       "       ['Tokyo', 48.0, 63000.0],\n",
       "       ['Tokyo', 36.5, 51000.0],\n",
       "       ['Singapore', 33.0, 69000.0],\n",
       "       ['NewYork', 40.0, 79000.0],\n",
       "       ['Mumbai', 38.0, 63000.0],\n",
       "       ['Singapore', 35.0, 38000.0],\n",
       "       ['Tokyo', 36.5, 56000.0],\n",
       "       ['Singapore', 35.0, 72000.0],\n",
       "       ['NewYork', 45.0, 79000.0],\n",
       "       ['Mumbai', 31.0, 85000.0],\n",
       "       ['Singapore', 37.0, 49000.0],\n",
       "       ['Mumbai', 69.0, 110000.0],\n",
       "       ['Tokyo', 16.0, 40000.0]], dtype=object)"
      ]
     },
     "execution_count": 12,
     "metadata": {},
     "output_type": "execute_result"
    }
   ],
   "source": [
    "X"
   ]
  },
  {
   "cell_type": "markdown",
   "id": "68e4b296",
   "metadata": {},
   "source": [
    "### Data encoding"
   ]
  },
  {
   "cell_type": "code",
   "execution_count": 13,
   "id": "09d97e73",
   "metadata": {},
   "outputs": [],
   "source": [
    "# one hot encoding\n",
    "from sklearn.compose import ColumnTransformer\n",
    "from sklearn.preprocessing import OneHotEncoder\n",
    "\n",
    "\n",
    "ct = ColumnTransformer(transformers=[('encoder', OneHotEncoder(), [0])], remainder= 'passthrough')\n",
    "X = np.array(ct.fit_transform(X))"
   ]
  },
  {
   "cell_type": "code",
   "execution_count": 14,
   "id": "a09a0935",
   "metadata": {
    "scrolled": true
   },
   "outputs": [
    {
     "data": {
      "text/plain": [
       "array([[1.0, 0.0, 0.0, 0.0, 27.0, 51000.0],\n",
       "       [0.0, 1.0, 0.0, 0.0, 27.0, 48000.0],\n",
       "       [1.0, 0.0, 0.0, 0.0, 30.0, 52000.0],\n",
       "       [0.0, 1.0, 0.0, 0.0, 36.5, 66000.0],\n",
       "       [0.0, 0.0, 0.0, 1.0, 48.0, 63000.0],\n",
       "       [0.0, 0.0, 0.0, 1.0, 36.5, 51000.0],\n",
       "       [0.0, 0.0, 1.0, 0.0, 33.0, 69000.0],\n",
       "       [0.0, 1.0, 0.0, 0.0, 40.0, 79000.0],\n",
       "       [1.0, 0.0, 0.0, 0.0, 38.0, 63000.0],\n",
       "       [0.0, 0.0, 1.0, 0.0, 35.0, 38000.0],\n",
       "       [0.0, 0.0, 0.0, 1.0, 36.5, 56000.0],\n",
       "       [0.0, 0.0, 1.0, 0.0, 35.0, 72000.0],\n",
       "       [0.0, 1.0, 0.0, 0.0, 45.0, 79000.0],\n",
       "       [1.0, 0.0, 0.0, 0.0, 31.0, 85000.0],\n",
       "       [0.0, 0.0, 1.0, 0.0, 37.0, 49000.0],\n",
       "       [1.0, 0.0, 0.0, 0.0, 69.0, 110000.0],\n",
       "       [0.0, 0.0, 0.0, 1.0, 16.0, 40000.0]], dtype=object)"
      ]
     },
     "execution_count": 14,
     "metadata": {},
     "output_type": "execute_result"
    }
   ],
   "source": [
    "X"
   ]
  },
  {
   "cell_type": "code",
   "execution_count": 15,
   "id": "42103552",
   "metadata": {},
   "outputs": [
    {
     "data": {
      "text/plain": [
       "array([1, 1, 0, 0, 1, 0, 0, 1, 1, 0, 0, 0, 1, 1, 0, 0, 1])"
      ]
     },
     "execution_count": 15,
     "metadata": {},
     "output_type": "execute_result"
    }
   ],
   "source": [
    "# label encoding\n",
    "from sklearn.preprocessing import LabelEncoder\n",
    "\n",
    "le = LabelEncoder()\n",
    "le.fit_transform(y)"
   ]
  },
  {
   "cell_type": "markdown",
   "id": "282cbcf9",
   "metadata": {},
   "source": [
    "### Split the dataset for training and testing"
   ]
  },
  {
   "cell_type": "code",
   "execution_count": 16,
   "id": "2d4de108",
   "metadata": {},
   "outputs": [],
   "source": [
    "# train/test splitting\n",
    "from sklearn.model_selection import train_test_split\n",
    "\n",
    "X_train, X_test, y_train, y_test = train_test_split(X, y, test_size=0.25, random_state=1)"
   ]
  },
  {
   "cell_type": "code",
   "execution_count": 17,
   "id": "4d3956ff",
   "metadata": {},
   "outputs": [
    {
     "data": {
      "text/plain": [
       "array([[0.0, 0.0, 0.0, 1.0, 36.5, 56000.0],\n",
       "       [0.0, 0.0, 0.0, 1.0, 48.0, 63000.0],\n",
       "       [0.0, 1.0, 0.0, 0.0, 27.0, 48000.0],\n",
       "       [0.0, 0.0, 1.0, 0.0, 37.0, 49000.0],\n",
       "       [1.0, 0.0, 0.0, 0.0, 27.0, 51000.0],\n",
       "       [0.0, 0.0, 0.0, 1.0, 16.0, 40000.0],\n",
       "       [1.0, 0.0, 0.0, 0.0, 69.0, 110000.0],\n",
       "       [0.0, 0.0, 1.0, 0.0, 35.0, 38000.0],\n",
       "       [1.0, 0.0, 0.0, 0.0, 38.0, 63000.0],\n",
       "       [0.0, 1.0, 0.0, 0.0, 45.0, 79000.0],\n",
       "       [0.0, 0.0, 1.0, 0.0, 35.0, 72000.0],\n",
       "       [0.0, 0.0, 0.0, 1.0, 36.5, 51000.0]], dtype=object)"
      ]
     },
     "execution_count": 17,
     "metadata": {},
     "output_type": "execute_result"
    }
   ],
   "source": [
    "X_train"
   ]
  },
  {
   "cell_type": "code",
   "execution_count": 18,
   "id": "7c0d91c6",
   "metadata": {},
   "outputs": [
    {
     "data": {
      "text/plain": [
       "array([[0.0, 1.0, 0.0, 0.0, 36.5, 66000.0],\n",
       "       [1.0, 0.0, 0.0, 0.0, 31.0, 85000.0],\n",
       "       [0.0, 1.0, 0.0, 0.0, 40.0, 79000.0],\n",
       "       [1.0, 0.0, 0.0, 0.0, 30.0, 52000.0],\n",
       "       [0.0, 0.0, 1.0, 0.0, 33.0, 69000.0]], dtype=object)"
      ]
     },
     "execution_count": 18,
     "metadata": {},
     "output_type": "execute_result"
    }
   ],
   "source": [
    "X_test"
   ]
  },
  {
   "cell_type": "code",
   "execution_count": 19,
   "id": "506abbbb",
   "metadata": {},
   "outputs": [
    {
     "data": {
      "text/plain": [
       "array(['No', 'Yes', 'Yes', 'No', 'Yes', 'Yes', 'No', 'No', 'Yes', 'Yes',\n",
       "       'No', 'No'], dtype=object)"
      ]
     },
     "execution_count": 19,
     "metadata": {},
     "output_type": "execute_result"
    }
   ],
   "source": [
    "y_train"
   ]
  },
  {
   "cell_type": "code",
   "execution_count": 20,
   "id": "461774fb",
   "metadata": {
    "scrolled": true
   },
   "outputs": [
    {
     "data": {
      "text/plain": [
       "array(['No', 'Yes', 'Yes', 'No', 'No'], dtype=object)"
      ]
     },
     "execution_count": 20,
     "metadata": {},
     "output_type": "execute_result"
    }
   ],
   "source": [
    "y_test"
   ]
  },
  {
   "cell_type": "markdown",
   "id": "d94058fd",
   "metadata": {},
   "source": [
    "### Feature Scaling"
   ]
  },
  {
   "cell_type": "code",
   "execution_count": 21,
   "id": "2539cc9b",
   "metadata": {},
   "outputs": [],
   "source": [
    "# standardization\n",
    "from sklearn.preprocessing import StandardScaler\n",
    "\n",
    "scaler = StandardScaler()\n",
    "X_train[:, 4:] = scaler.fit_transform(X_train[:, 4:])\n",
    "X_test[:, 4:] = scaler.fit_transform(X_test[:, 4:])"
   ]
  },
  {
   "cell_type": "code",
   "execution_count": 22,
   "id": "fef2c89f",
   "metadata": {},
   "outputs": [
    {
     "data": {
      "text/plain": [
       "array([[0.0, 0.0, 0.0, 1.0, -0.08039761142244642, -0.2100902925755561],\n",
       "       [0.0, 0.0, 0.0, 1.0, 0.8441749199356875, 0.15756771943166706],\n",
       "       [0.0, 1.0, 0.0, 0.0, -0.8441749199356875, -0.6302708777266682],\n",
       "       [0.0, 0.0, 1.0, 0.0, -0.04019880571122321, -0.5777483045827793],\n",
       "       [1.0, 0.0, 0.0, 0.0, -0.8441749199356875, -0.4727031582950012],\n",
       "       [0.0, 0.0, 0.0, 1.0, -1.728548645582598, -1.0504514628777806],\n",
       "       [1.0, 0.0, 0.0, 0.0, 2.532524759807062, 2.6261286571944513],\n",
       "       [0.0, 0.0, 1.0, 0.0, -0.20099402855611606, -1.1554966091655585],\n",
       "       [1.0, 0.0, 0.0, 0.0, 0.04019880571122321, 0.15756771943166706],\n",
       "       [0.0, 1.0, 0.0, 0.0, 0.6029820856683482, 0.9979288897338915],\n",
       "       [0.0, 0.0, 1.0, 0.0, -0.20099402855611606, 0.6302708777266682],\n",
       "       [0.0, 0.0, 0.0, 1.0, -0.08039761142244642, -0.4727031582950012]],\n",
       "      dtype=object)"
      ]
     },
     "execution_count": 22,
     "metadata": {},
     "output_type": "execute_result"
    }
   ],
   "source": [
    "X_train"
   ]
  },
  {
   "cell_type": "code",
   "execution_count": 23,
   "id": "f0d23018",
   "metadata": {},
   "outputs": [
    {
     "data": {
      "text/plain": [
       "array([[0.0, 1.0, 0.0, 0.0, 0.6498364332886585, -0.3692744729379982],\n",
       "       [1.0, 0.0, 0.0, 0.0, -0.839372059664518, 1.3012529046386603],\n",
       "       [0.0, 1.0, 0.0, 0.0, 1.5975145651679525, 0.773717943298663],\n",
       "       [1.0, 0.0, 0.0, 0.0, -1.110137240201459, -1.6001893827313256],\n",
       "       [0.0, 0.0, 1.0, 0.0, -0.2978416985906357, -0.10550699226799949]],\n",
       "      dtype=object)"
      ]
     },
     "execution_count": 23,
     "metadata": {},
     "output_type": "execute_result"
    }
   ],
   "source": [
    "X_test"
   ]
  }
 ],
 "metadata": {
  "kernelspec": {
   "display_name": "env",
   "language": "python",
   "name": "env"
  },
  "language_info": {
   "codemirror_mode": {
    "name": "ipython",
    "version": 3
   },
   "file_extension": ".py",
   "mimetype": "text/x-python",
   "name": "python",
   "nbconvert_exporter": "python",
   "pygments_lexer": "ipython3",
   "version": "3.10.7"
  }
 },
 "nbformat": 4,
 "nbformat_minor": 5
}
