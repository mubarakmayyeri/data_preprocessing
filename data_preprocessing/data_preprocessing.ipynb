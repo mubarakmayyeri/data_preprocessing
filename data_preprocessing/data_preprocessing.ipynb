{
 "cells": [
  {
   "cell_type": "markdown",
   "id": "4de805da",
   "metadata": {},
   "source": [
    "# Data preprocessing"
   ]
  },
  {
   "cell_type": "code",
   "execution_count": 1,
   "id": "e0eeecf6",
   "metadata": {},
   "outputs": [],
   "source": [
    "# importing necessary libraries\n",
    "import numpy as np\n",
    "import pandas as pd\n"
   ]
  },
  {
   "cell_type": "code",
   "execution_count": 2,
   "id": "2d540df3",
   "metadata": {},
   "outputs": [
    {
     "data": {
      "text/html": [
       "<div>\n",
       "<style scoped>\n",
       "    .dataframe tbody tr th:only-of-type {\n",
       "        vertical-align: middle;\n",
       "    }\n",
       "\n",
       "    .dataframe tbody tr th {\n",
       "        vertical-align: top;\n",
       "    }\n",
       "\n",
       "    .dataframe thead th {\n",
       "        text-align: right;\n",
       "    }\n",
       "</style>\n",
       "<table border=\"1\" class=\"dataframe\">\n",
       "  <thead>\n",
       "    <tr style=\"text-align: right;\">\n",
       "      <th></th>\n",
       "      <th>City</th>\n",
       "      <th>Age</th>\n",
       "      <th>Salary</th>\n",
       "      <th>Eligible for bonus</th>\n",
       "    </tr>\n",
       "  </thead>\n",
       "  <tbody>\n",
       "    <tr>\n",
       "      <th>0</th>\n",
       "      <td>Mumbai</td>\n",
       "      <td>27.0</td>\n",
       "      <td>51000.0</td>\n",
       "      <td>Yes</td>\n",
       "    </tr>\n",
       "    <tr>\n",
       "      <th>1</th>\n",
       "      <td>NewYork</td>\n",
       "      <td>27.0</td>\n",
       "      <td>48000.0</td>\n",
       "      <td>Yes</td>\n",
       "    </tr>\n",
       "    <tr>\n",
       "      <th>2</th>\n",
       "      <td>Mumbai</td>\n",
       "      <td>30.0</td>\n",
       "      <td>52000.0</td>\n",
       "      <td>No</td>\n",
       "    </tr>\n",
       "    <tr>\n",
       "      <th>3</th>\n",
       "      <td>NewYork</td>\n",
       "      <td>NaN</td>\n",
       "      <td>66000.0</td>\n",
       "      <td>No</td>\n",
       "    </tr>\n",
       "    <tr>\n",
       "      <th>4</th>\n",
       "      <td>Tokyo</td>\n",
       "      <td>48.0</td>\n",
       "      <td>NaN</td>\n",
       "      <td>Yes</td>\n",
       "    </tr>\n",
       "  </tbody>\n",
       "</table>\n",
       "</div>"
      ],
      "text/plain": [
       "      City   Age   Salary Eligible for bonus\n",
       "0   Mumbai  27.0  51000.0                Yes\n",
       "1  NewYork  27.0  48000.0                Yes\n",
       "2   Mumbai  30.0  52000.0                 No\n",
       "3  NewYork   NaN  66000.0                 No\n",
       "4    Tokyo  48.0      NaN                Yes"
      ]
     },
     "execution_count": 2,
     "metadata": {},
     "output_type": "execute_result"
    }
   ],
   "source": [
    "#importing dataset\n",
    "df = pd.read_csv('employee_data.csv')\n",
    "\n",
    "df.head()"
   ]
  },
  {
   "cell_type": "code",
   "execution_count": 3,
   "id": "567e1d36",
   "metadata": {},
   "outputs": [
    {
     "name": "stdout",
     "output_type": "stream",
     "text": [
      "<class 'pandas.core.frame.DataFrame'>\n",
      "RangeIndex: 17 entries, 0 to 16\n",
      "Data columns (total 4 columns):\n",
      " #   Column              Non-Null Count  Dtype  \n",
      "---  ------              --------------  -----  \n",
      " 0   City                17 non-null     object \n",
      " 1   Age                 14 non-null     float64\n",
      " 2   Salary              15 non-null     float64\n",
      " 3   Eligible for bonus  17 non-null     object \n",
      "dtypes: float64(2), object(2)\n",
      "memory usage: 672.0+ bytes\n"
     ]
    }
   ],
   "source": [
    "df.info()"
   ]
  },
  {
   "cell_type": "markdown",
   "id": "0634ad53",
   "metadata": {},
   "source": [
    "# Creating dependent and independent variables"
   ]
  },
  {
   "cell_type": "code",
   "execution_count": 4,
   "id": "73b90b30",
   "metadata": {},
   "outputs": [],
   "source": [
    "# create numpy representaion of the data\n",
    "\n",
    "X = df.iloc[:,:-1].values\n",
    "y = df.iloc[:,-1].values"
   ]
  },
  {
   "cell_type": "code",
   "execution_count": 5,
   "id": "2a2b258b",
   "metadata": {},
   "outputs": [
    {
     "data": {
      "text/plain": [
       "array([['Mumbai', 27.0, 51000.0],\n",
       "       ['NewYork', 27.0, 48000.0],\n",
       "       ['Mumbai', 30.0, 52000.0],\n",
       "       ['NewYork', nan, 66000.0],\n",
       "       ['Tokyo', 48.0, nan],\n",
       "       ['Tokyo', nan, 51000.0],\n",
       "       ['Singapore', 33.0, 69000.0],\n",
       "       ['NewYork', 40.0, 79000.0],\n",
       "       ['Mumbai', 38.0, nan],\n",
       "       ['Singapore', 35.0, 38000.0],\n",
       "       ['Tokyo', nan, 56000.0],\n",
       "       ['Singapore', 35.0, 72000.0],\n",
       "       ['NewYork', 45.0, 79000.0],\n",
       "       ['Mumbai', 31.0, 85000.0],\n",
       "       ['Singapore', 37.0, 49000.0],\n",
       "       ['Mumbai', 69.0, 110000.0],\n",
       "       ['Tokyo', 16.0, 40000.0]], dtype=object)"
      ]
     },
     "execution_count": 5,
     "metadata": {},
     "output_type": "execute_result"
    }
   ],
   "source": [
    "X"
   ]
  },
  {
   "cell_type": "code",
   "execution_count": 6,
   "id": "92268363",
   "metadata": {
    "scrolled": true
   },
   "outputs": [
    {
     "data": {
      "text/plain": [
       "array(['Yes', 'Yes', 'No', 'No', 'Yes', 'No', 'No', 'Yes', 'Yes', 'No',\n",
       "       'No', 'No', 'Yes', 'Yes', 'No', 'No', 'Yes'], dtype=object)"
      ]
     },
     "execution_count": 6,
     "metadata": {},
     "output_type": "execute_result"
    }
   ],
   "source": [
    "y"
   ]
  },
  {
   "cell_type": "markdown",
   "id": "7072ad6c",
   "metadata": {},
   "source": [
    "### Handling Missing Values"
   ]
  },
  {
   "cell_type": "code",
   "execution_count": 7,
   "id": "5f3592f5",
   "metadata": {
    "scrolled": true
   },
   "outputs": [
    {
     "data": {
      "text/plain": [
       "City                  0\n",
       "Age                   3\n",
       "Salary                2\n",
       "Eligible for bonus    0\n",
       "dtype: int64"
      ]
     },
     "execution_count": 7,
     "metadata": {},
     "output_type": "execute_result"
    }
   ],
   "source": [
    "# counting the number of missing values\n",
    "df.isnull().sum()"
   ]
  },
  {
   "cell_type": "code",
   "execution_count": 9,
   "id": "e97c698f",
   "metadata": {},
   "outputs": [
    {
     "data": {
      "text/plain": [
       "City                  0\n",
       "Age                   0\n",
       "Salary                0\n",
       "Eligible for bonus    0\n",
       "dtype: int64"
      ]
     },
     "execution_count": 9,
     "metadata": {},
     "output_type": "execute_result"
    }
   ],
   "source": [
    "# dropping missing value records\n",
    "df1 = df.dropna()\n",
    "df1.isnull().sum()"
   ]
  },
  {
   "cell_type": "code",
   "execution_count": 11,
   "id": "04e82d19",
   "metadata": {},
   "outputs": [],
   "source": [
    "# replacing missing values\n",
    "from sklearn.impute import SimpleImputer\n",
    "\n",
    "imputer = SimpleImputer(missing_values = np.nan, strategy = 'mean')\n",
    "imputer.fit(X[:, 1:3])\n",
    "X[:, 1:3] = imputer.transform(X[:, 1:3])"
   ]
  },
  {
   "cell_type": "code",
   "execution_count": 12,
   "id": "cf618f30",
   "metadata": {
    "scrolled": true
   },
   "outputs": [
    {
     "data": {
      "text/plain": [
       "array([['Mumbai', 27.0, 51000.0],\n",
       "       ['NewYork', 27.0, 48000.0],\n",
       "       ['Mumbai', 30.0, 52000.0],\n",
       "       ['NewYork', 36.5, 66000.0],\n",
       "       ['Tokyo', 48.0, 63000.0],\n",
       "       ['Tokyo', 36.5, 51000.0],\n",
       "       ['Singapore', 33.0, 69000.0],\n",
       "       ['NewYork', 40.0, 79000.0],\n",
       "       ['Mumbai', 38.0, 63000.0],\n",
       "       ['Singapore', 35.0, 38000.0],\n",
       "       ['Tokyo', 36.5, 56000.0],\n",
       "       ['Singapore', 35.0, 72000.0],\n",
       "       ['NewYork', 45.0, 79000.0],\n",
       "       ['Mumbai', 31.0, 85000.0],\n",
       "       ['Singapore', 37.0, 49000.0],\n",
       "       ['Mumbai', 69.0, 110000.0],\n",
       "       ['Tokyo', 16.0, 40000.0]], dtype=object)"
      ]
     },
     "execution_count": 12,
     "metadata": {},
     "output_type": "execute_result"
    }
   ],
   "source": [
    "X"
   ]
  },
  {
   "cell_type": "markdown",
   "id": "ceba0b15",
   "metadata": {},
   "source": [
    "### Data encoding"
   ]
  },
  {
   "cell_type": "code",
   "execution_count": 13,
   "id": "216b3d83",
   "metadata": {},
   "outputs": [],
   "source": [
    "# one hot encoding\n",
    "from sklearn.compose import ColumnTransformer\n",
    "from sklearn.preprocessing import OneHotEncoder\n",
    "\n",
    "\n",
    "ct = ColumnTransformer(transformers=[('encoder', OneHotEncoder(), [0])], remainder= 'passthrough')\n",
    "X = np.array(ct.fit_transform(X))"
   ]
  },
  {
   "cell_type": "code",
   "execution_count": 14,
   "id": "328972ab",
   "metadata": {
    "scrolled": true
   },
   "outputs": [
    {
     "data": {
      "text/plain": [
       "array([[1.0, 0.0, 0.0, 0.0, 27.0, 51000.0],\n",
       "       [0.0, 1.0, 0.0, 0.0, 27.0, 48000.0],\n",
       "       [1.0, 0.0, 0.0, 0.0, 30.0, 52000.0],\n",
       "       [0.0, 1.0, 0.0, 0.0, 36.5, 66000.0],\n",
       "       [0.0, 0.0, 0.0, 1.0, 48.0, 63000.0],\n",
       "       [0.0, 0.0, 0.0, 1.0, 36.5, 51000.0],\n",
       "       [0.0, 0.0, 1.0, 0.0, 33.0, 69000.0],\n",
       "       [0.0, 1.0, 0.0, 0.0, 40.0, 79000.0],\n",
       "       [1.0, 0.0, 0.0, 0.0, 38.0, 63000.0],\n",
       "       [0.0, 0.0, 1.0, 0.0, 35.0, 38000.0],\n",
       "       [0.0, 0.0, 0.0, 1.0, 36.5, 56000.0],\n",
       "       [0.0, 0.0, 1.0, 0.0, 35.0, 72000.0],\n",
       "       [0.0, 1.0, 0.0, 0.0, 45.0, 79000.0],\n",
       "       [1.0, 0.0, 0.0, 0.0, 31.0, 85000.0],\n",
       "       [0.0, 0.0, 1.0, 0.0, 37.0, 49000.0],\n",
       "       [1.0, 0.0, 0.0, 0.0, 69.0, 110000.0],\n",
       "       [0.0, 0.0, 0.0, 1.0, 16.0, 40000.0]], dtype=object)"
      ]
     },
     "execution_count": 14,
     "metadata": {},
     "output_type": "execute_result"
    }
   ],
   "source": [
    "X"
   ]
  },
  {
   "cell_type": "code",
   "execution_count": 15,
   "id": "47399481",
   "metadata": {},
   "outputs": [
    {
     "data": {
      "text/plain": [
       "array([1, 1, 0, 0, 1, 0, 0, 1, 1, 0, 0, 0, 1, 1, 0, 0, 1])"
      ]
     },
     "execution_count": 15,
     "metadata": {},
     "output_type": "execute_result"
    }
   ],
   "source": [
    "# label encoding\n",
    "from sklearn.preprocessing import LabelEncoder\n",
    "\n",
    "le = LabelEncoder()\n",
    "le.fit_transform(y)"
   ]
  },
  {
   "cell_type": "markdown",
   "id": "4fd04006",
   "metadata": {},
   "source": [
    "### Split the dataset for training and testing"
   ]
  },
  {
   "cell_type": "code",
   "execution_count": 16,
   "id": "1bef66b9",
   "metadata": {},
   "outputs": [],
   "source": [
    "# train/test splitting\n",
    "from sklearn.model_selection import train_test_split\n",
    "\n",
    "X_train, X_test, y_train, y_test = train_test_split(X, y, test_size=0.25, random_state=1)"
   ]
  },
  {
   "cell_type": "code",
   "execution_count": 17,
   "id": "09a482a3",
   "metadata": {},
   "outputs": [
    {
     "data": {
      "text/plain": [
       "array([[0.0, 0.0, 0.0, 1.0, 36.5, 56000.0],\n",
       "       [0.0, 0.0, 0.0, 1.0, 48.0, 63000.0],\n",
       "       [0.0, 1.0, 0.0, 0.0, 27.0, 48000.0],\n",
       "       [0.0, 0.0, 1.0, 0.0, 37.0, 49000.0],\n",
       "       [1.0, 0.0, 0.0, 0.0, 27.0, 51000.0],\n",
       "       [0.0, 0.0, 0.0, 1.0, 16.0, 40000.0],\n",
       "       [1.0, 0.0, 0.0, 0.0, 69.0, 110000.0],\n",
       "       [0.0, 0.0, 1.0, 0.0, 35.0, 38000.0],\n",
       "       [1.0, 0.0, 0.0, 0.0, 38.0, 63000.0],\n",
       "       [0.0, 1.0, 0.0, 0.0, 45.0, 79000.0],\n",
       "       [0.0, 0.0, 1.0, 0.0, 35.0, 72000.0],\n",
       "       [0.0, 0.0, 0.0, 1.0, 36.5, 51000.0]], dtype=object)"
      ]
     },
     "execution_count": 17,
     "metadata": {},
     "output_type": "execute_result"
    }
   ],
   "source": [
    "X_train"
   ]
  },
  {
   "cell_type": "code",
   "execution_count": 18,
   "id": "3e37ac02",
   "metadata": {},
   "outputs": [
    {
     "data": {
      "text/plain": [
       "array([[0.0, 1.0, 0.0, 0.0, 36.5, 66000.0],\n",
       "       [1.0, 0.0, 0.0, 0.0, 31.0, 85000.0],\n",
       "       [0.0, 1.0, 0.0, 0.0, 40.0, 79000.0],\n",
       "       [1.0, 0.0, 0.0, 0.0, 30.0, 52000.0],\n",
       "       [0.0, 0.0, 1.0, 0.0, 33.0, 69000.0]], dtype=object)"
      ]
     },
     "execution_count": 18,
     "metadata": {},
     "output_type": "execute_result"
    }
   ],
   "source": [
    "X_test"
   ]
  },
  {
   "cell_type": "code",
   "execution_count": 19,
   "id": "3bfb02ad",
   "metadata": {},
   "outputs": [
    {
     "data": {
      "text/plain": [
       "array(['No', 'Yes', 'Yes', 'No', 'Yes', 'Yes', 'No', 'No', 'Yes', 'Yes',\n",
       "       'No', 'No'], dtype=object)"
      ]
     },
     "execution_count": 19,
     "metadata": {},
     "output_type": "execute_result"
    }
   ],
   "source": [
    "y_train"
   ]
  },
  {
   "cell_type": "code",
   "execution_count": 20,
   "id": "a4d9e6fd",
   "metadata": {},
   "outputs": [
    {
     "data": {
      "text/plain": [
       "array(['No', 'Yes', 'Yes', 'No', 'No'], dtype=object)"
      ]
     },
     "execution_count": 20,
     "metadata": {},
     "output_type": "execute_result"
    }
   ],
   "source": [
    "y_test"
   ]
  }
 ],
 "metadata": {
  "kernelspec": {
   "display_name": "env",
   "language": "python",
   "name": "env"
  },
  "language_info": {
   "codemirror_mode": {
    "name": "ipython",
    "version": 3
   },
   "file_extension": ".py",
   "mimetype": "text/x-python",
   "name": "python",
   "nbconvert_exporter": "python",
   "pygments_lexer": "ipython3",
   "version": "3.10.7"
  }
 },
 "nbformat": 4,
 "nbformat_minor": 5
}
