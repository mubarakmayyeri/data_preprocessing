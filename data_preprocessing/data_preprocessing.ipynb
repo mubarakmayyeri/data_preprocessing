{
 "cells": [
  {
   "cell_type": "markdown",
   "id": "fb7683c3",
   "metadata": {},
   "source": [
    "# Data preprocessing"
   ]
  },
  {
   "cell_type": "code",
   "execution_count": 1,
   "id": "e0eeecf6",
   "metadata": {},
   "outputs": [],
   "source": [
    "# importing necessary libraries\n",
    "import numpy as np\n",
    "import pandas as pd\n"
   ]
  },
  {
   "cell_type": "code",
   "execution_count": 2,
   "id": "ece6acf5",
   "metadata": {},
   "outputs": [
    {
     "data": {
      "text/html": [
       "<div>\n",
       "<style scoped>\n",
       "    .dataframe tbody tr th:only-of-type {\n",
       "        vertical-align: middle;\n",
       "    }\n",
       "\n",
       "    .dataframe tbody tr th {\n",
       "        vertical-align: top;\n",
       "    }\n",
       "\n",
       "    .dataframe thead th {\n",
       "        text-align: right;\n",
       "    }\n",
       "</style>\n",
       "<table border=\"1\" class=\"dataframe\">\n",
       "  <thead>\n",
       "    <tr style=\"text-align: right;\">\n",
       "      <th></th>\n",
       "      <th>City</th>\n",
       "      <th>Age</th>\n",
       "      <th>Salary</th>\n",
       "      <th>Eligible for bonus</th>\n",
       "    </tr>\n",
       "  </thead>\n",
       "  <tbody>\n",
       "    <tr>\n",
       "      <th>0</th>\n",
       "      <td>Mumbai</td>\n",
       "      <td>27.0</td>\n",
       "      <td>51000.0</td>\n",
       "      <td>Yes</td>\n",
       "    </tr>\n",
       "    <tr>\n",
       "      <th>1</th>\n",
       "      <td>NewYork</td>\n",
       "      <td>27.0</td>\n",
       "      <td>48000.0</td>\n",
       "      <td>Yes</td>\n",
       "    </tr>\n",
       "    <tr>\n",
       "      <th>2</th>\n",
       "      <td>Mumbai</td>\n",
       "      <td>30.0</td>\n",
       "      <td>52000.0</td>\n",
       "      <td>No</td>\n",
       "    </tr>\n",
       "    <tr>\n",
       "      <th>3</th>\n",
       "      <td>NewYork</td>\n",
       "      <td>NaN</td>\n",
       "      <td>66000.0</td>\n",
       "      <td>No</td>\n",
       "    </tr>\n",
       "    <tr>\n",
       "      <th>4</th>\n",
       "      <td>Tokyo</td>\n",
       "      <td>48.0</td>\n",
       "      <td>NaN</td>\n",
       "      <td>Yes</td>\n",
       "    </tr>\n",
       "  </tbody>\n",
       "</table>\n",
       "</div>"
      ],
      "text/plain": [
       "      City   Age   Salary Eligible for bonus\n",
       "0   Mumbai  27.0  51000.0                Yes\n",
       "1  NewYork  27.0  48000.0                Yes\n",
       "2   Mumbai  30.0  52000.0                 No\n",
       "3  NewYork   NaN  66000.0                 No\n",
       "4    Tokyo  48.0      NaN                Yes"
      ]
     },
     "execution_count": 2,
     "metadata": {},
     "output_type": "execute_result"
    }
   ],
   "source": [
    "#importing dataset\n",
    "df = pd.read_csv('employee_data.csv')\n",
    "\n",
    "df.head()"
   ]
  },
  {
   "cell_type": "code",
   "execution_count": 3,
   "id": "8c3f2a7b",
   "metadata": {},
   "outputs": [
    {
     "name": "stdout",
     "output_type": "stream",
     "text": [
      "<class 'pandas.core.frame.DataFrame'>\n",
      "RangeIndex: 17 entries, 0 to 16\n",
      "Data columns (total 4 columns):\n",
      " #   Column              Non-Null Count  Dtype  \n",
      "---  ------              --------------  -----  \n",
      " 0   City                17 non-null     object \n",
      " 1   Age                 14 non-null     float64\n",
      " 2   Salary              15 non-null     float64\n",
      " 3   Eligible for bonus  17 non-null     object \n",
      "dtypes: float64(2), object(2)\n",
      "memory usage: 672.0+ bytes\n"
     ]
    }
   ],
   "source": [
    "df.info()"
   ]
  },
  {
   "cell_type": "markdown",
   "id": "04ff3595",
   "metadata": {},
   "source": [
    "# Creating dependent and independent variables"
   ]
  },
  {
   "cell_type": "code",
   "execution_count": 4,
   "id": "c0eb7684",
   "metadata": {},
   "outputs": [],
   "source": [
    "# create numpy representaion of the data\n",
    "\n",
    "X = df.iloc[:,:-1].values\n",
    "y = df.iloc[:,-1].values"
   ]
  },
  {
   "cell_type": "code",
   "execution_count": 5,
   "id": "790eedfa",
   "metadata": {},
   "outputs": [
    {
     "data": {
      "text/plain": [
       "array([['Mumbai', 27.0, 51000.0],\n",
       "       ['NewYork', 27.0, 48000.0],\n",
       "       ['Mumbai', 30.0, 52000.0],\n",
       "       ['NewYork', nan, 66000.0],\n",
       "       ['Tokyo', 48.0, nan],\n",
       "       ['Tokyo', nan, 51000.0],\n",
       "       ['Singapore', 33.0, 69000.0],\n",
       "       ['NewYork', 40.0, 79000.0],\n",
       "       ['Mumbai', 38.0, nan],\n",
       "       ['Singapore', 35.0, 38000.0],\n",
       "       ['Tokyo', nan, 56000.0],\n",
       "       ['Singapore', 35.0, 72000.0],\n",
       "       ['NewYork', 45.0, 79000.0],\n",
       "       ['Mumbai', 31.0, 85000.0],\n",
       "       ['Singapore', 37.0, 49000.0],\n",
       "       ['Mumbai', 69.0, 110000.0],\n",
       "       ['Tokyo', 16.0, 40000.0]], dtype=object)"
      ]
     },
     "execution_count": 5,
     "metadata": {},
     "output_type": "execute_result"
    }
   ],
   "source": [
    "X"
   ]
  },
  {
   "cell_type": "code",
   "execution_count": 6,
   "id": "7b030a18",
   "metadata": {
    "scrolled": true
   },
   "outputs": [
    {
     "data": {
      "text/plain": [
       "array(['Yes', 'Yes', 'No', 'No', 'Yes', 'No', 'No', 'Yes', 'Yes', 'No',\n",
       "       'No', 'No', 'Yes', 'Yes', 'No', 'No', 'Yes'], dtype=object)"
      ]
     },
     "execution_count": 6,
     "metadata": {},
     "output_type": "execute_result"
    }
   ],
   "source": [
    "y"
   ]
  },
  {
   "cell_type": "markdown",
   "id": "6dd2c252",
   "metadata": {},
   "source": [
    "### Handling Missing Values"
   ]
  },
  {
   "cell_type": "code",
   "execution_count": 7,
   "id": "bb20e429",
   "metadata": {
    "scrolled": true
   },
   "outputs": [
    {
     "data": {
      "text/plain": [
       "City                  0\n",
       "Age                   3\n",
       "Salary                2\n",
       "Eligible for bonus    0\n",
       "dtype: int64"
      ]
     },
     "execution_count": 7,
     "metadata": {},
     "output_type": "execute_result"
    }
   ],
   "source": [
    "# counting the number of missing values\n",
    "df.isnull().sum()"
   ]
  },
  {
   "cell_type": "code",
   "execution_count": 9,
   "id": "4f86c38d",
   "metadata": {},
   "outputs": [
    {
     "data": {
      "text/plain": [
       "City                  0\n",
       "Age                   0\n",
       "Salary                0\n",
       "Eligible for bonus    0\n",
       "dtype: int64"
      ]
     },
     "execution_count": 9,
     "metadata": {},
     "output_type": "execute_result"
    }
   ],
   "source": [
    "# dropping missing value records\n",
    "df1 = df.dropna()\n",
    "df1.isnull().sum()"
   ]
  },
  {
   "cell_type": "code",
   "execution_count": 11,
   "id": "b655957e",
   "metadata": {},
   "outputs": [],
   "source": [
    "# replacing missing values\n",
    "from sklearn.impute import SimpleImputer\n",
    "\n",
    "imputer = SimpleImputer(missing_values = np.nan, strategy = 'mean')\n",
    "imputer.fit(X[:, 1:3])\n",
    "X[:, 1:3] = imputer.transform(X[:, 1:3])"
   ]
  },
  {
   "cell_type": "code",
   "execution_count": 12,
   "id": "777db274",
   "metadata": {
    "scrolled": true
   },
   "outputs": [
    {
     "data": {
      "text/plain": [
       "array([['Mumbai', 27.0, 51000.0],\n",
       "       ['NewYork', 27.0, 48000.0],\n",
       "       ['Mumbai', 30.0, 52000.0],\n",
       "       ['NewYork', 36.5, 66000.0],\n",
       "       ['Tokyo', 48.0, 63000.0],\n",
       "       ['Tokyo', 36.5, 51000.0],\n",
       "       ['Singapore', 33.0, 69000.0],\n",
       "       ['NewYork', 40.0, 79000.0],\n",
       "       ['Mumbai', 38.0, 63000.0],\n",
       "       ['Singapore', 35.0, 38000.0],\n",
       "       ['Tokyo', 36.5, 56000.0],\n",
       "       ['Singapore', 35.0, 72000.0],\n",
       "       ['NewYork', 45.0, 79000.0],\n",
       "       ['Mumbai', 31.0, 85000.0],\n",
       "       ['Singapore', 37.0, 49000.0],\n",
       "       ['Mumbai', 69.0, 110000.0],\n",
       "       ['Tokyo', 16.0, 40000.0]], dtype=object)"
      ]
     },
     "execution_count": 12,
     "metadata": {},
     "output_type": "execute_result"
    }
   ],
   "source": [
    "X"
   ]
  },
  {
   "cell_type": "markdown",
   "id": "abd863a6",
   "metadata": {},
   "source": [
    "### Data encoding"
   ]
  },
  {
   "cell_type": "code",
   "execution_count": 13,
   "id": "a12f984a",
   "metadata": {},
   "outputs": [],
   "source": [
    "# one hot encoding\n",
    "from sklearn.compose import ColumnTransformer\n",
    "from sklearn.preprocessing import OneHotEncoder\n",
    "\n",
    "\n",
    "ct = ColumnTransformer(transformers=[('encoder', OneHotEncoder(), [0])], remainder= 'passthrough')\n",
    "X = np.array(ct.fit_transform(X))"
   ]
  },
  {
   "cell_type": "code",
   "execution_count": 14,
   "id": "f2143667",
   "metadata": {
    "scrolled": true
   },
   "outputs": [
    {
     "data": {
      "text/plain": [
       "array([[1.0, 0.0, 0.0, 0.0, 27.0, 51000.0],\n",
       "       [0.0, 1.0, 0.0, 0.0, 27.0, 48000.0],\n",
       "       [1.0, 0.0, 0.0, 0.0, 30.0, 52000.0],\n",
       "       [0.0, 1.0, 0.0, 0.0, 36.5, 66000.0],\n",
       "       [0.0, 0.0, 0.0, 1.0, 48.0, 63000.0],\n",
       "       [0.0, 0.0, 0.0, 1.0, 36.5, 51000.0],\n",
       "       [0.0, 0.0, 1.0, 0.0, 33.0, 69000.0],\n",
       "       [0.0, 1.0, 0.0, 0.0, 40.0, 79000.0],\n",
       "       [1.0, 0.0, 0.0, 0.0, 38.0, 63000.0],\n",
       "       [0.0, 0.0, 1.0, 0.0, 35.0, 38000.0],\n",
       "       [0.0, 0.0, 0.0, 1.0, 36.5, 56000.0],\n",
       "       [0.0, 0.0, 1.0, 0.0, 35.0, 72000.0],\n",
       "       [0.0, 1.0, 0.0, 0.0, 45.0, 79000.0],\n",
       "       [1.0, 0.0, 0.0, 0.0, 31.0, 85000.0],\n",
       "       [0.0, 0.0, 1.0, 0.0, 37.0, 49000.0],\n",
       "       [1.0, 0.0, 0.0, 0.0, 69.0, 110000.0],\n",
       "       [0.0, 0.0, 0.0, 1.0, 16.0, 40000.0]], dtype=object)"
      ]
     },
     "execution_count": 14,
     "metadata": {},
     "output_type": "execute_result"
    }
   ],
   "source": [
    "X"
   ]
  },
  {
   "cell_type": "code",
   "execution_count": 15,
   "id": "47fe0472",
   "metadata": {},
   "outputs": [
    {
     "data": {
      "text/plain": [
       "array([1, 1, 0, 0, 1, 0, 0, 1, 1, 0, 0, 0, 1, 1, 0, 0, 1])"
      ]
     },
     "execution_count": 15,
     "metadata": {},
     "output_type": "execute_result"
    }
   ],
   "source": [
    "# label encoding\n",
    "from sklearn.preprocessing import LabelEncoder\n",
    "\n",
    "le = LabelEncoder()\n",
    "le.fit_transform(y)"
   ]
  },
  {
   "cell_type": "markdown",
   "id": "f08bee70",
   "metadata": {},
   "source": [
    "### Split the dataset for training and testing"
   ]
  },
  {
   "cell_type": "code",
   "execution_count": 16,
   "id": "3ced19bf",
   "metadata": {},
   "outputs": [],
   "source": [
    "# train/test splitting\n",
    "from sklearn.model_selection import train_test_split\n",
    "\n",
    "X_train, X_test, y_train, y_test = train_test_split(X, y, test_size=0.25, random_state=1)"
   ]
  },
  {
   "cell_type": "code",
   "execution_count": 17,
   "id": "aebf4ee5",
   "metadata": {},
   "outputs": [
    {
     "data": {
      "text/plain": [
       "array([[0.0, 0.0, 0.0, 1.0, 36.5, 56000.0],\n",
       "       [0.0, 0.0, 0.0, 1.0, 48.0, 63000.0],\n",
       "       [0.0, 1.0, 0.0, 0.0, 27.0, 48000.0],\n",
       "       [0.0, 0.0, 1.0, 0.0, 37.0, 49000.0],\n",
       "       [1.0, 0.0, 0.0, 0.0, 27.0, 51000.0],\n",
       "       [0.0, 0.0, 0.0, 1.0, 16.0, 40000.0],\n",
       "       [1.0, 0.0, 0.0, 0.0, 69.0, 110000.0],\n",
       "       [0.0, 0.0, 1.0, 0.0, 35.0, 38000.0],\n",
       "       [1.0, 0.0, 0.0, 0.0, 38.0, 63000.0],\n",
       "       [0.0, 1.0, 0.0, 0.0, 45.0, 79000.0],\n",
       "       [0.0, 0.0, 1.0, 0.0, 35.0, 72000.0],\n",
       "       [0.0, 0.0, 0.0, 1.0, 36.5, 51000.0]], dtype=object)"
      ]
     },
     "execution_count": 17,
     "metadata": {},
     "output_type": "execute_result"
    }
   ],
   "source": [
    "X_train"
   ]
  },
  {
   "cell_type": "code",
   "execution_count": 18,
   "id": "1dd2274d",
   "metadata": {},
   "outputs": [
    {
     "data": {
      "text/plain": [
       "array([[0.0, 1.0, 0.0, 0.0, 36.5, 66000.0],\n",
       "       [1.0, 0.0, 0.0, 0.0, 31.0, 85000.0],\n",
       "       [0.0, 1.0, 0.0, 0.0, 40.0, 79000.0],\n",
       "       [1.0, 0.0, 0.0, 0.0, 30.0, 52000.0],\n",
       "       [0.0, 0.0, 1.0, 0.0, 33.0, 69000.0]], dtype=object)"
      ]
     },
     "execution_count": 18,
     "metadata": {},
     "output_type": "execute_result"
    }
   ],
   "source": [
    "X_test"
   ]
  },
  {
   "cell_type": "code",
   "execution_count": 19,
   "id": "8fbe8598",
   "metadata": {},
   "outputs": [
    {
     "data": {
      "text/plain": [
       "array(['No', 'Yes', 'Yes', 'No', 'Yes', 'Yes', 'No', 'No', 'Yes', 'Yes',\n",
       "       'No', 'No'], dtype=object)"
      ]
     },
     "execution_count": 19,
     "metadata": {},
     "output_type": "execute_result"
    }
   ],
   "source": [
    "y_train"
   ]
  },
  {
   "cell_type": "code",
   "execution_count": 20,
   "id": "0eb2e570",
   "metadata": {
    "scrolled": true
   },
   "outputs": [
    {
     "data": {
      "text/plain": [
       "array(['No', 'Yes', 'Yes', 'No', 'No'], dtype=object)"
      ]
     },
     "execution_count": 20,
     "metadata": {},
     "output_type": "execute_result"
    }
   ],
   "source": [
    "y_test"
   ]
  },
  {
   "cell_type": "markdown",
   "id": "0c5d11f7",
   "metadata": {},
   "source": [
    "### Feature Scaling"
   ]
  },
  {
   "cell_type": "code",
   "execution_count": 21,
   "id": "8dfd5895",
   "metadata": {},
   "outputs": [],
   "source": [
    "# standardization\n",
    "from sklearn.preprocessing import StandardScaler\n",
    "\n",
    "scaler = StandardScaler()\n",
    "X_train[:, 4:] = scaler.fit_transform(X_train[:, 4:])\n",
    "X_test[:, 4:] = scaler.fit_transform(X_test[:, 4:])"
   ]
  },
  {
   "cell_type": "code",
   "execution_count": 22,
   "id": "8f2275a0",
   "metadata": {},
   "outputs": [
    {
     "data": {
      "text/plain": [
       "array([[0.0, 0.0, 0.0, 1.0, -0.08039761142244642, -0.2100902925755561],\n",
       "       [0.0, 0.0, 0.0, 1.0, 0.8441749199356875, 0.15756771943166706],\n",
       "       [0.0, 1.0, 0.0, 0.0, -0.8441749199356875, -0.6302708777266682],\n",
       "       [0.0, 0.0, 1.0, 0.0, -0.04019880571122321, -0.5777483045827793],\n",
       "       [1.0, 0.0, 0.0, 0.0, -0.8441749199356875, -0.4727031582950012],\n",
       "       [0.0, 0.0, 0.0, 1.0, -1.728548645582598, -1.0504514628777806],\n",
       "       [1.0, 0.0, 0.0, 0.0, 2.532524759807062, 2.6261286571944513],\n",
       "       [0.0, 0.0, 1.0, 0.0, -0.20099402855611606, -1.1554966091655585],\n",
       "       [1.0, 0.0, 0.0, 0.0, 0.04019880571122321, 0.15756771943166706],\n",
       "       [0.0, 1.0, 0.0, 0.0, 0.6029820856683482, 0.9979288897338915],\n",
       "       [0.0, 0.0, 1.0, 0.0, -0.20099402855611606, 0.6302708777266682],\n",
       "       [0.0, 0.0, 0.0, 1.0, -0.08039761142244642, -0.4727031582950012]],\n",
       "      dtype=object)"
      ]
     },
     "execution_count": 22,
     "metadata": {},
     "output_type": "execute_result"
    }
   ],
   "source": [
    "X_train"
   ]
  },
  {
   "cell_type": "code",
   "execution_count": 23,
   "id": "70ca5ddb",
   "metadata": {
    "scrolled": false
   },
   "outputs": [
    {
     "data": {
      "text/plain": [
       "array([[0.0, 1.0, 0.0, 0.0, 0.6498364332886585, -0.3692744729379982],\n",
       "       [1.0, 0.0, 0.0, 0.0, -0.839372059664518, 1.3012529046386603],\n",
       "       [0.0, 1.0, 0.0, 0.0, 1.5975145651679525, 0.773717943298663],\n",
       "       [1.0, 0.0, 0.0, 0.0, -1.110137240201459, -1.6001893827313256],\n",
       "       [0.0, 0.0, 1.0, 0.0, -0.2978416985906357, -0.10550699226799949]],\n",
       "      dtype=object)"
      ]
     },
     "execution_count": 23,
     "metadata": {},
     "output_type": "execute_result"
    }
   ],
   "source": [
    "X_test"
   ]
  },
  {
   "cell_type": "markdown",
   "id": "660134c1",
   "metadata": {},
   "source": [
    "### Outlier Treatment"
   ]
  },
  {
   "cell_type": "code",
   "execution_count": 24,
   "id": "6f4f5763",
   "metadata": {
    "scrolled": true
   },
   "outputs": [
    {
     "data": {
      "text/html": [
       "<div>\n",
       "<style scoped>\n",
       "    .dataframe tbody tr th:only-of-type {\n",
       "        vertical-align: middle;\n",
       "    }\n",
       "\n",
       "    .dataframe tbody tr th {\n",
       "        vertical-align: top;\n",
       "    }\n",
       "\n",
       "    .dataframe thead th {\n",
       "        text-align: right;\n",
       "    }\n",
       "</style>\n",
       "<table border=\"1\" class=\"dataframe\">\n",
       "  <thead>\n",
       "    <tr style=\"text-align: right;\">\n",
       "      <th></th>\n",
       "      <th>City</th>\n",
       "      <th>Age</th>\n",
       "      <th>Salary</th>\n",
       "      <th>Eligible for bonus</th>\n",
       "    </tr>\n",
       "  </thead>\n",
       "  <tbody>\n",
       "    <tr>\n",
       "      <th>0</th>\n",
       "      <td>Mumbai</td>\n",
       "      <td>27.0</td>\n",
       "      <td>51000.0</td>\n",
       "      <td>Yes</td>\n",
       "    </tr>\n",
       "    <tr>\n",
       "      <th>1</th>\n",
       "      <td>NewYork</td>\n",
       "      <td>27.0</td>\n",
       "      <td>48000.0</td>\n",
       "      <td>Yes</td>\n",
       "    </tr>\n",
       "    <tr>\n",
       "      <th>2</th>\n",
       "      <td>Mumbai</td>\n",
       "      <td>30.0</td>\n",
       "      <td>52000.0</td>\n",
       "      <td>No</td>\n",
       "    </tr>\n",
       "    <tr>\n",
       "      <th>3</th>\n",
       "      <td>NewYork</td>\n",
       "      <td>NaN</td>\n",
       "      <td>66000.0</td>\n",
       "      <td>No</td>\n",
       "    </tr>\n",
       "    <tr>\n",
       "      <th>4</th>\n",
       "      <td>Tokyo</td>\n",
       "      <td>48.0</td>\n",
       "      <td>NaN</td>\n",
       "      <td>Yes</td>\n",
       "    </tr>\n",
       "  </tbody>\n",
       "</table>\n",
       "</div>"
      ],
      "text/plain": [
       "      City   Age   Salary Eligible for bonus\n",
       "0   Mumbai  27.0  51000.0                Yes\n",
       "1  NewYork  27.0  48000.0                Yes\n",
       "2   Mumbai  30.0  52000.0                 No\n",
       "3  NewYork   NaN  66000.0                 No\n",
       "4    Tokyo  48.0      NaN                Yes"
      ]
     },
     "execution_count": 24,
     "metadata": {},
     "output_type": "execute_result"
    }
   ],
   "source": [
    "import matplotlib.pyplot as plt\n",
    "\n",
    "dataset = pd.read_csv('employee_data.csv')\n",
    "dataset.head()"
   ]
  },
  {
   "cell_type": "code",
   "execution_count": 30,
   "id": "1af4e119",
   "metadata": {
    "scrolled": false
   },
   "outputs": [
    {
     "data": {
      "image/png": "[encoded data removed]",
      "text/plain": [
       "<Figure size 640x480 with 1 Axes>"
      ]
     },
     "metadata": {},
     "output_type": "display_data"
    }
   ],
   "source": [
    "# finding the outliers\n",
    "\n",
    "plt.hist(dataset['Age'], bins=15)\n",
    "plt.show()"
   ]
  },
  {
   "cell_type": "code",
   "execution_count": 32,
   "id": "86ad35e0",
   "metadata": {},
   "outputs": [],
   "source": [
    "# detecting outlier with Quantile\n",
    "\n",
    "lowerLimit = dataset['Age'].quantile(0.05)\n",
    "upperLimit = dataset['Age'].quantile(0.95)"
   ]
  },
  {
   "cell_type": "code",
   "execution_count": 33,
   "id": "0e56909c",
   "metadata": {
    "scrolled": true
   },
   "outputs": [
    {
     "name": "stdout",
     "output_type": "stream",
     "text": [
      "Upper Limit =  55.349999999999994\n",
      "Lower Limit =  23.15\n"
     ]
    }
   ],
   "source": [
    "print('Upper Limit = ', upperLimit)\n",
    "print('Lower Limit = ', lowerLimit)"
   ]
  },
  {
   "cell_type": "code",
   "execution_count": 41,
   "id": "e746c84e",
   "metadata": {
    "scrolled": true
   },
   "outputs": [
    {
     "data": {
      "text/html": [
       "<div>\n",
       "<style scoped>\n",
       "    .dataframe tbody tr th:only-of-type {\n",
       "        vertical-align: middle;\n",
       "    }\n",
       "\n",
       "    .dataframe tbody tr th {\n",
       "        vertical-align: top;\n",
       "    }\n",
       "\n",
       "    .dataframe thead th {\n",
       "        text-align: right;\n",
       "    }\n",
       "</style>\n",
       "<table border=\"1\" class=\"dataframe\">\n",
       "  <thead>\n",
       "    <tr style=\"text-align: right;\">\n",
       "      <th></th>\n",
       "      <th>City</th>\n",
       "      <th>Age</th>\n",
       "      <th>Salary</th>\n",
       "      <th>Eligible for bonus</th>\n",
       "    </tr>\n",
       "  </thead>\n",
       "  <tbody>\n",
       "    <tr>\n",
       "      <th>15</th>\n",
       "      <td>Mumbai</td>\n",
       "      <td>69.0</td>\n",
       "      <td>110000.0</td>\n",
       "      <td>No</td>\n",
       "    </tr>\n",
       "    <tr>\n",
       "      <th>16</th>\n",
       "      <td>Tokyo</td>\n",
       "      <td>16.0</td>\n",
       "      <td>40000.0</td>\n",
       "      <td>Yes</td>\n",
       "    </tr>\n",
       "  </tbody>\n",
       "</table>\n",
       "</div>"
      ],
      "text/plain": [
       "      City   Age    Salary Eligible for bonus\n",
       "15  Mumbai  69.0  110000.0                 No\n",
       "16   Tokyo  16.0   40000.0                Yes"
      ]
     },
     "execution_count": 41,
     "metadata": {},
     "output_type": "execute_result"
    }
   ],
   "source": [
    "# printing the outliers\n",
    "dataset[(dataset['Age'] < lowerLimit) | (dataset['Age'] > upperLimit)]"
   ]
  },
  {
   "cell_type": "code",
   "execution_count": 43,
   "id": "b2563710",
   "metadata": {
    "scrolled": true
   },
   "outputs": [
    {
     "data": {
      "text/html": [
       "<div>\n",
       "<style scoped>\n",
       "    .dataframe tbody tr th:only-of-type {\n",
       "        vertical-align: middle;\n",
       "    }\n",
       "\n",
       "    .dataframe tbody tr th {\n",
       "        vertical-align: top;\n",
       "    }\n",
       "\n",
       "    .dataframe thead th {\n",
       "        text-align: right;\n",
       "    }\n",
       "</style>\n",
       "<table border=\"1\" class=\"dataframe\">\n",
       "  <thead>\n",
       "    <tr style=\"text-align: right;\">\n",
       "      <th></th>\n",
       "      <th>City</th>\n",
       "      <th>Age</th>\n",
       "      <th>Salary</th>\n",
       "      <th>Eligible for bonus</th>\n",
       "    </tr>\n",
       "  </thead>\n",
       "  <tbody>\n",
       "    <tr>\n",
       "      <th>0</th>\n",
       "      <td>Mumbai</td>\n",
       "      <td>27.0</td>\n",
       "      <td>51000.0</td>\n",
       "      <td>Yes</td>\n",
       "    </tr>\n",
       "    <tr>\n",
       "      <th>1</th>\n",
       "      <td>NewYork</td>\n",
       "      <td>27.0</td>\n",
       "      <td>48000.0</td>\n",
       "      <td>Yes</td>\n",
       "    </tr>\n",
       "    <tr>\n",
       "      <th>2</th>\n",
       "      <td>Mumbai</td>\n",
       "      <td>30.0</td>\n",
       "      <td>52000.0</td>\n",
       "      <td>No</td>\n",
       "    </tr>\n",
       "    <tr>\n",
       "      <th>4</th>\n",
       "      <td>Tokyo</td>\n",
       "      <td>48.0</td>\n",
       "      <td>NaN</td>\n",
       "      <td>Yes</td>\n",
       "    </tr>\n",
       "    <tr>\n",
       "      <th>6</th>\n",
       "      <td>Singapore</td>\n",
       "      <td>33.0</td>\n",
       "      <td>69000.0</td>\n",
       "      <td>No</td>\n",
       "    </tr>\n",
       "    <tr>\n",
       "      <th>7</th>\n",
       "      <td>NewYork</td>\n",
       "      <td>40.0</td>\n",
       "      <td>79000.0</td>\n",
       "      <td>Yes</td>\n",
       "    </tr>\n",
       "    <tr>\n",
       "      <th>8</th>\n",
       "      <td>Mumbai</td>\n",
       "      <td>38.0</td>\n",
       "      <td>NaN</td>\n",
       "      <td>Yes</td>\n",
       "    </tr>\n",
       "    <tr>\n",
       "      <th>9</th>\n",
       "      <td>Singapore</td>\n",
       "      <td>35.0</td>\n",
       "      <td>38000.0</td>\n",
       "      <td>No</td>\n",
       "    </tr>\n",
       "    <tr>\n",
       "      <th>11</th>\n",
       "      <td>Singapore</td>\n",
       "      <td>35.0</td>\n",
       "      <td>72000.0</td>\n",
       "      <td>No</td>\n",
       "    </tr>\n",
       "    <tr>\n",
       "      <th>12</th>\n",
       "      <td>NewYork</td>\n",
       "      <td>45.0</td>\n",
       "      <td>79000.0</td>\n",
       "      <td>Yes</td>\n",
       "    </tr>\n",
       "    <tr>\n",
       "      <th>13</th>\n",
       "      <td>Mumbai</td>\n",
       "      <td>31.0</td>\n",
       "      <td>85000.0</td>\n",
       "      <td>Yes</td>\n",
       "    </tr>\n",
       "    <tr>\n",
       "      <th>14</th>\n",
       "      <td>Singapore</td>\n",
       "      <td>37.0</td>\n",
       "      <td>49000.0</td>\n",
       "      <td>No</td>\n",
       "    </tr>\n",
       "  </tbody>\n",
       "</table>\n",
       "</div>"
      ],
      "text/plain": [
       "         City   Age   Salary Eligible for bonus\n",
       "0      Mumbai  27.0  51000.0                Yes\n",
       "1     NewYork  27.0  48000.0                Yes\n",
       "2      Mumbai  30.0  52000.0                 No\n",
       "4       Tokyo  48.0      NaN                Yes\n",
       "6   Singapore  33.0  69000.0                 No\n",
       "7     NewYork  40.0  79000.0                Yes\n",
       "8      Mumbai  38.0      NaN                Yes\n",
       "9   Singapore  35.0  38000.0                 No\n",
       "11  Singapore  35.0  72000.0                 No\n",
       "12    NewYork  45.0  79000.0                Yes\n",
       "13     Mumbai  31.0  85000.0                Yes\n",
       "14  Singapore  37.0  49000.0                 No"
      ]
     },
     "execution_count": 43,
     "metadata": {},
     "output_type": "execute_result"
    }
   ],
   "source": [
    "dataset = dataset[(dataset.Age > lowerLimit) & (dataset.Age < upperLimit)]\n",
    "dataset"
   ]
  },
  {
   "cell_type": "markdown",
   "id": "0c101227",
   "metadata": {},
   "source": [
    "### Converting oridinal data into numerical form"
   ]
  },
  {
   "cell_type": "code",
   "execution_count": 3,
   "id": "b5546c0e",
   "metadata": {},
   "outputs": [
    {
     "data": {
      "text/html": [
       "<div>\n",
       "<style scoped>\n",
       "    .dataframe tbody tr th:only-of-type {\n",
       "        vertical-align: middle;\n",
       "    }\n",
       "\n",
       "    .dataframe tbody tr th {\n",
       "        vertical-align: top;\n",
       "    }\n",
       "\n",
       "    .dataframe thead th {\n",
       "        text-align: right;\n",
       "    }\n",
       "</style>\n",
       "<table border=\"1\" class=\"dataframe\">\n",
       "  <thead>\n",
       "    <tr style=\"text-align: right;\">\n",
       "      <th></th>\n",
       "      <th>Degree</th>\n",
       "    </tr>\n",
       "  </thead>\n",
       "  <tbody>\n",
       "    <tr>\n",
       "      <th>0</th>\n",
       "      <td>High school</td>\n",
       "    </tr>\n",
       "    <tr>\n",
       "      <th>1</th>\n",
       "      <td>Masters</td>\n",
       "    </tr>\n",
       "    <tr>\n",
       "      <th>2</th>\n",
       "      <td>Diploma</td>\n",
       "    </tr>\n",
       "    <tr>\n",
       "      <th>3</th>\n",
       "      <td>Bachelors</td>\n",
       "    </tr>\n",
       "    <tr>\n",
       "      <th>4</th>\n",
       "      <td>Bachelors</td>\n",
       "    </tr>\n",
       "    <tr>\n",
       "      <th>5</th>\n",
       "      <td>Masters</td>\n",
       "    </tr>\n",
       "    <tr>\n",
       "      <th>6</th>\n",
       "      <td>Phd</td>\n",
       "    </tr>\n",
       "    <tr>\n",
       "      <th>7</th>\n",
       "      <td>High school</td>\n",
       "    </tr>\n",
       "    <tr>\n",
       "      <th>8</th>\n",
       "      <td>High school</td>\n",
       "    </tr>\n",
       "  </tbody>\n",
       "</table>\n",
       "</div>"
      ],
      "text/plain": [
       "        Degree\n",
       "0  High school\n",
       "1      Masters\n",
       "2      Diploma\n",
       "3    Bachelors\n",
       "4    Bachelors\n",
       "5      Masters\n",
       "6          Phd\n",
       "7  High school\n",
       "8  High school"
      ]
     },
     "execution_count": 3,
     "metadata": {},
     "output_type": "execute_result"
    }
   ],
   "source": [
    "degree = {'Degree':['High school','Masters','Diploma','Bachelors','Bachelors','Masters','Phd','High school','High school']}\n",
    "\n",
    "df = pd.DataFrame(degree)\n",
    "df"
   ]
  },
  {
   "cell_type": "code",
   "execution_count": 5,
   "id": "5ba7e48e",
   "metadata": {},
   "outputs": [
    {
     "data": {
      "text/html": [
       "<div>\n",
       "<style scoped>\n",
       "    .dataframe tbody tr th:only-of-type {\n",
       "        vertical-align: middle;\n",
       "    }\n",
       "\n",
       "    .dataframe tbody tr th {\n",
       "        vertical-align: top;\n",
       "    }\n",
       "\n",
       "    .dataframe thead th {\n",
       "        text-align: right;\n",
       "    }\n",
       "</style>\n",
       "<table border=\"1\" class=\"dataframe\">\n",
       "  <thead>\n",
       "    <tr style=\"text-align: right;\">\n",
       "      <th></th>\n",
       "      <th>Degree</th>\n",
       "      <th>DegreeNum</th>\n",
       "    </tr>\n",
       "  </thead>\n",
       "  <tbody>\n",
       "    <tr>\n",
       "      <th>0</th>\n",
       "      <td>High school</td>\n",
       "      <td>1</td>\n",
       "    </tr>\n",
       "    <tr>\n",
       "      <th>1</th>\n",
       "      <td>Masters</td>\n",
       "      <td>4</td>\n",
       "    </tr>\n",
       "    <tr>\n",
       "      <th>2</th>\n",
       "      <td>Diploma</td>\n",
       "      <td>2</td>\n",
       "    </tr>\n",
       "    <tr>\n",
       "      <th>3</th>\n",
       "      <td>Bachelors</td>\n",
       "      <td>3</td>\n",
       "    </tr>\n",
       "    <tr>\n",
       "      <th>4</th>\n",
       "      <td>Bachelors</td>\n",
       "      <td>3</td>\n",
       "    </tr>\n",
       "    <tr>\n",
       "      <th>5</th>\n",
       "      <td>Masters</td>\n",
       "      <td>4</td>\n",
       "    </tr>\n",
       "    <tr>\n",
       "      <th>6</th>\n",
       "      <td>Phd</td>\n",
       "      <td>5</td>\n",
       "    </tr>\n",
       "    <tr>\n",
       "      <th>7</th>\n",
       "      <td>High school</td>\n",
       "      <td>1</td>\n",
       "    </tr>\n",
       "    <tr>\n",
       "      <th>8</th>\n",
       "      <td>High school</td>\n",
       "      <td>1</td>\n",
       "    </tr>\n",
       "  </tbody>\n",
       "</table>\n",
       "</div>"
      ],
      "text/plain": [
       "        Degree  DegreeNum\n",
       "0  High school          1\n",
       "1      Masters          4\n",
       "2      Diploma          2\n",
       "3    Bachelors          3\n",
       "4    Bachelors          3\n",
       "5      Masters          4\n",
       "6          Phd          5\n",
       "7  High school          1\n",
       "8  High school          1"
      ]
     },
     "execution_count": 5,
     "metadata": {},
     "output_type": "execute_result"
    }
   ],
   "source": [
    "# creating mapping\n",
    "dataMapping = {\n",
    "    'None':0,\n",
    "    'High school':1,\n",
    "    'Diploma':2,\n",
    "    'Bachelors':3,\n",
    "    'Masters':4,\n",
    "    'Phd':5\n",
    "}\n",
    "\n",
    "df['DegreeNum'] = df['Degree'].map(dataMapping)\n",
    "df"
   ]
  }
 ],
 "metadata": {
  "kernelspec": {
   "display_name": "env",
   "language": "python",
   "name": "env"
  },
  "language_info": {
   "codemirror_mode": {
    "name": "ipython",
    "version": 3
   },
   "file_extension": ".py",
   "mimetype": "text/x-python",
   "name": "python",
   "nbconvert_exporter": "python",
   "pygments_lexer": "ipython3",
   "version": "3.10.7"
  }
 },
 "nbformat": 4,
 "nbformat_minor": 5
}
